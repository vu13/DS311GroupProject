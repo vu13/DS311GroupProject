{
 "cells": [
  {
   "cell_type": "code",
   "execution_count": 1,
   "id": "29505790",
   "metadata": {},
   "outputs": [],
   "source": [
    "import pandas as pd\n",
    "import numpy as np\n",
    "import matplotlib.pyplot as plt"
   ]
  },
  {
   "cell_type": "code",
   "execution_count": 2,
   "id": "5353bedc",
   "metadata": {},
   "outputs": [],
   "source": [
    "salary=pd.read_excel(\"Salary_data_outliers.xlsx\")"
   ]
  },
  {
   "cell_type": "code",
   "execution_count": 3,
   "id": "fbf2c19c",
   "metadata": {},
   "outputs": [],
   "source": [
    "salary_df = salary.dropna(subset=['PREVAILING_WAGE_PER_YEAR'])"
   ]
  },
  {
   "cell_type": "code",
   "execution_count": 4,
   "id": "7ffaa1f5",
   "metadata": {},
   "outputs": [],
   "source": [
    "pws = salary_df.groupby(['JOB_TITLE_SUBGROUP'])['PREVAILING_WAGE_PER_YEAR'].mean()"
   ]
  },
  {
   "cell_type": "code",
   "execution_count": 5,
   "id": "d42614f8",
   "metadata": {},
   "outputs": [
    {
     "data": {
      "text/plain": [
       "JOB_TITLE_SUBGROUP\n",
       "assistant professor       59095.076640\n",
       "attorney                 106295.836568\n",
       "business analyst          64746.244446\n",
       "data analyst              62752.650211\n",
       "data scientist            90545.579707\n",
       "management consultant     77541.296010\n",
       "software engineer         84072.555495\n",
       "teacher                   42392.315614\n",
       "Name: PREVAILING_WAGE_PER_YEAR, dtype: float64"
      ]
     },
     "execution_count": 5,
     "metadata": {},
     "output_type": "execute_result"
    }
   ],
   "source": [
    "pws"
   ]
  },
  {
   "cell_type": "code",
   "execution_count": 6,
   "id": "b4b1449c",
   "metadata": {},
   "outputs": [],
   "source": [
    "os = salary_df.groupby(['JOB_TITLE_SUBGROUP'])['PAID_WAGE_PER_YEAR'].mean()"
   ]
  },
  {
   "cell_type": "code",
   "execution_count": 7,
   "id": "915eda23",
   "metadata": {},
   "outputs": [
    {
     "data": {
      "text/plain": [
       "JOB_TITLE_SUBGROUP\n",
       "assistant professor       92600.459355\n",
       "attorney                 137628.670209\n",
       "business analyst          71010.569838\n",
       "data analyst              69855.179562\n",
       "data scientist           108021.038248\n",
       "management consultant    107062.226454\n",
       "software engineer         92250.086312\n",
       "teacher                   45727.155950\n",
       "Name: PAID_WAGE_PER_YEAR, dtype: float64"
      ]
     },
     "execution_count": 7,
     "metadata": {},
     "output_type": "execute_result"
    }
   ],
   "source": [
    "os"
   ]
  },
  {
   "cell_type": "code",
   "execution_count": 8,
   "id": "7ae83b4f",
   "metadata": {},
   "outputs": [
    {
     "data": {
      "text/plain": [
       "JOB_TITLE_SUBGROUP\n",
       "assistant professor      33505.382715\n",
       "attorney                 31332.833642\n",
       "management consultant    29520.930443\n",
       "data scientist           17475.458541\n",
       "software engineer         8177.530816\n",
       "data analyst              7102.529351\n",
       "business analyst          6264.325391\n",
       "teacher                   3334.840336\n",
       "dtype: float64"
      ]
     },
     "execution_count": 8,
     "metadata": {},
     "output_type": "execute_result"
    }
   ],
   "source": [
    "# Every job sub-categories tend to be overpaid. \n",
    "wagedif = os.subtract(pws, axis = 0)\n",
    "wagedif.sort_values(axis=0, ascending=False)"
   ]
  },
  {
   "cell_type": "code",
   "execution_count": 9,
   "id": "8efb543b",
   "metadata": {},
   "outputs": [
    {
     "data": {
      "image/png": "[encoded data removed]",
      "text/plain": [
       "<Figure size 720x288 with 1 Axes>"
      ]
     },
     "metadata": {
      "needs_background": "light"
     },
     "output_type": "display_data"
    }
   ],
   "source": [
    "sortedwagedif = wagedif.sort_values(ascending = False)\n",
    "fig, ax = plt.subplots(figsize=(10,4))\n",
    "plt.bar(sortedwagedif.index, sortedwagedif)\n",
    "ax.set_ylabel(\"Wage Difference\")\n",
    "ax.tick_params(axis='x', labelrotation=75)"
   ]
  },
  {
   "cell_type": "code",
   "execution_count": 10,
   "id": "4b4abc4a",
   "metadata": {},
   "outputs": [],
   "source": [
    "cos = salary_df.groupby(['EMPLOYER_NAME'])['PAID_WAGE_PER_YEAR'].mean()\n",
    "cpws = salary_df.groupby(['EMPLOYER_NAME'])['PREVAILING_WAGE_PER_YEAR'].mean()"
   ]
  },
  {
   "cell_type": "code",
   "execution_count": 11,
   "id": "7bc91125",
   "metadata": {},
   "outputs": [
    {
     "data": {
      "text/plain": [
       "EMPLOYER_NAME\n",
       "BROOKLYN COLLEGE OF THE CITY UNIVERSITY OF NEW YORK    -99859.760000\n",
       "DEPT OF MEDICINE MEDICAL SERVICE GROUP @ SUNY - H      -64876.240000\n",
       "RESEARCH FOUNDATION FOR SUNY                           -59783.880000\n",
       "UC PHYSICIANS INC                                      -56307.680000\n",
       "THE RESEARCH FOUNDATION OF SUNY                        -52973.960000\n",
       "                                                           ...      \n",
       "UNIVERSITY UROLOGY INC                                 208670.453333\n",
       "UNIVERSITY VASCULAR SURGERY PC                         268028.800000\n",
       "RADIATION THERAPY FOUNDATION                           281947.000000\n",
       "KANSAS UNIVERSITY NEUROLOGICAL SURGERY FOUNDATION      352540.000000\n",
       "KU NEUROLOGICAL SURGERY FOUNDATION                     352540.000000\n",
       "Length: 22591, dtype: float64"
      ]
     },
     "execution_count": 11,
     "metadata": {},
     "output_type": "execute_result"
    }
   ],
   "source": [
    "# Employers such as ADVANCED TECHNOLOGY GROUP, SECURE ENDPOINTS... tend to underpay their employees\n",
    "# While HUGHES HUBBARD & REED, THE UNIVERSITY OF TEXAS SYSTEM ADMINISTRATION... tends to overpays their employees\n",
    "cwagedif = cos.subtract(cpws, axis = 0)\n",
    "sortedcwagedif = cwagedif.sort_values(axis=0)\n",
    "sortedcwagedif"
   ]
  },
  {
   "cell_type": "code",
   "execution_count": null,
   "id": "ee1c2423",
   "metadata": {},
   "outputs": [],
   "source": []
  }
 ],
 "metadata": {
  "kernelspec": {
   "display_name": "Python 3 (ipykernel)",
   "language": "python",
   "name": "python3"
  },
  "language_info": {
   "codemirror_mode": {
    "name": "ipython",
    "version": 3
   },
   "file_extension": ".py",
   "mimetype": "text/x-python",
   "name": "python",
   "nbconvert_exporter": "python",
   "pygments_lexer": "ipython3",
   "version": "3.9.7"
  }
 },
 "nbformat": 4,
 "nbformat_minor": 5
}

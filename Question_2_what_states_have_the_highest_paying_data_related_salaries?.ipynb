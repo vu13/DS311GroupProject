{
 "cells": [
  {
   "cell_type": "code",
   "execution_count": null,
   "id": "6a089cd9",
   "metadata": {},
   "outputs": [],
   "source": [
    "#Emre Duzakin\n",
    "\n",
    "import pandas as pd\n",
    "import matplotlib.pyplot as plt\n",
    "salaries_df = pd.DataFrame(pd.read_excel(\"Merge_Data_DSGP311.xlsx\"))\n",
    "\n",
    "#Lets see what kind of information this dataframe holds:\n",
    "\n",
    "salaries_df.info()\n"
   ]
  },
  {
   "cell_type": "code",
   "execution_count": null,
   "id": "040fd749",
   "metadata": {},
   "outputs": [],
   "source": [
    "#As we can see, we have a \"JOB_TITLE_SUBGROUP\" category that we can use to determine if the jobs are related to data.\n",
    "\n",
    "salaries_df[\"JOB_TITLE_SUBGROUP\"].value_counts()"
   ]
  },
  {
   "cell_type": "code",
   "execution_count": null,
   "id": "0c694609",
   "metadata": {},
   "outputs": [],
   "source": [
    "#Indeed, we have two categories called \"data analyst\" and \"data scientist\" that we can use.\n",
    "#Lets create a seperate dataframe so that we can work on those data jobs easily.\n",
    "\n",
    "data_salaries_df = salaries_df.loc[salaries_df['JOB_TITLE_SUBGROUP'].isin([\"data analyst\", \"data scientist\"])]\n",
    "\n",
    "#Lets also drop rows that have missing state or paid_wage information, since we can't use them on our calculations\n",
    "\n",
    "data_salaries_df = data_salaries_df.dropna(subset=['WORK_STATE', 'PAID_WAGE_PER_YEAR'])\n",
    "\n",
    "#We actually don't need to have this here since there are no NaN values associates with these parameters, but it is\n",
    "#Nice to keep this part just incase if we want to use this code with different data with same structure in the future"
   ]
  },
  {
   "cell_type": "code",
   "execution_count": null,
   "id": "f029d9ca",
   "metadata": {},
   "outputs": [],
   "source": [
    "#Lets group the salary information by taking average yearly paid wage into account and sort them in descending order\n",
    "\n",
    "sorted_sal_df = data_salaries_df.groupby('WORK_STATE').mean().sort_values(by=\"PAID_WAGE_PER_YEAR\", ascending=[False])\n",
    "sorted_sal_df = sorted_sal_df.reset_index() #We need to do this to create a plot later\n",
    "sorted_sal_df"
   ]
  },
  {
   "cell_type": "code",
   "execution_count": null,
   "id": "182d35a8",
   "metadata": {},
   "outputs": [],
   "source": [
    "#As expected, California pays the most when it comes to data related jobs. However, it is surprizing to note that\n",
    "#Utah is also close to the top, could this be related to massive NSA data center located around Bluffdale? Probably.\n",
    "\n",
    "#Lets use this information to create a plot so that we can visualy see the difference\n",
    "#I will use the top 7 states to make the plot comprehensible, this can be changes by changing the variable below\n",
    "\n",
    "state_count = 7\n",
    "sorted_sal_df.head(state_count).plot(x ='WORK_STATE', y='PAID_WAGE_PER_YEAR', kind = 'bar', label=\"Anual Wage\",\n",
    "                                     title='Anual Income for Data Related Jobs')\n",
    "plt.show()"
   ]
  },
  {
   "cell_type": "markdown",
   "id": "6983d75e",
   "metadata": {},
   "source": [
    "## Differences Between Job Sub-Categories"
   ]
  },
  {
   "cell_type": "code",
   "execution_count": null,
   "id": "4d15e257",
   "metadata": {},
   "outputs": [],
   "source": [
    "#Now, lets explore the differences between different job subtypes, namely \"data analyst\" and \"data scientist\"\n",
    "#Lets create two different dataframes for the each sub-category\n",
    "\n",
    "analyst_salaries_df = salaries_df.loc[salaries_df['JOB_TITLE_SUBGROUP'].isin([\"data analyst\"])]\n",
    "scientist_salaries_df = salaries_df.loc[salaries_df['JOB_TITLE_SUBGROUP'].isin([\"data scientist\"])]\n",
    "\n",
    "#Lets do the row dropping once again:\n",
    "analyst_salaries_df = analyst_salaries_df.dropna(subset=['WORK_STATE', 'PAID_WAGE_PER_YEAR'])\n",
    "scientist_salaries_df = scientist_salaries_df.dropna(subset=['WORK_STATE', 'PAID_WAGE_PER_YEAR'])\n",
    "\n",
    "#Now, lets sort the data frames by taking anual paid wage into account for each state\n",
    "sorted_analyst_df = analyst_salaries_df.groupby('WORK_STATE').mean().sort_values(by=\"PAID_WAGE_PER_YEAR\", ascending=[False])\n",
    "sorted_analyst_df = sorted_analyst_df.reset_index() #We need to do this to create a plot later\n",
    "\n",
    "sorted_scientist_df = scientist_salaries_df.groupby('WORK_STATE').mean().sort_values(by=\"PAID_WAGE_PER_YEAR\", ascending=[False])\n",
    "sorted_scientist_df = sorted_scientist_df.reset_index() #We need to do this to create a plot later\n",
    "\n",
    "#We can finally plot them side by side\n",
    "figure, axis = plt.subplots(1, 2, figsize=(12,6))\n",
    "\n",
    "#For data analyst\n",
    "sorted_analyst_df.head(state_count).plot(x ='WORK_STATE', y='PAID_WAGE_PER_YEAR', kind = 'bar',label=\"Anual Wage\"\n",
    "                                     , ax = axis[0],subplots=True)\n",
    "axis[0].set_title(\"Data Anaylst Wages\")\n",
    "  \n",
    "# For data scientist\n",
    "sorted_scientist_df.head(state_count).plot(x ='WORK_STATE', y='PAID_WAGE_PER_YEAR', kind = 'bar',label=\"Anual Wage\"\n",
    "                                     , ax = axis[1],subplots=True)\n",
    "axis[1].set_title(\"Data Scientist Wages\")\n",
    "\n",
    "plt.show()\n",
    "\n",
    "#As we can see from the plots below, Data Scientists earn more than Data Analysts\n",
    "#Also, states that pay most do differ between data analysts and data scientists sub categories\n",
    "\n"
   ]
  },
  {
   "cell_type": "markdown",
   "id": "5944b265",
   "metadata": {},
   "source": [
    "## Companies With Highest Salaries for Each Sub-Categories "
   ]
  },
  {
   "cell_type": "code",
   "execution_count": null,
   "id": "db092d52",
   "metadata": {},
   "outputs": [],
   "source": [
    "#Now, lets see which companies pays the most for these sub-categories \n",
    "\n",
    "#Lets drop rows that has no EMPLOYER_NAME just in case\n",
    "analyst_salaries_df = analyst_salaries_df.dropna(subset=['EMPLOYER_NAME'])\n",
    "scientist_salaries_df = scientist_salaries_df.dropna(subset=['EMPLOYER_NAME'])\n",
    "\n",
    "#Now, lets sort the data frames by taking anual paid wage into account for each employer\n",
    "sorted_analyst_df_em = analyst_salaries_df.groupby('EMPLOYER_NAME').mean().sort_values(by=\"PAID_WAGE_PER_YEAR\", ascending=[False])\n",
    "sorted_analyst_df_em = sorted_analyst_df_em.reset_index() #We need to do this to create a plot later\n",
    "\n",
    "sorted_scientist_df_em = scientist_salaries_df.groupby('EMPLOYER_NAME').mean().sort_values(by=\"PAID_WAGE_PER_YEAR\", ascending=[False])\n",
    "sorted_scientist_df_em = sorted_scientist_df_em.reset_index() #We need to do this to create a plot later\n",
    "\n",
    "#Lets plot thhese side by side, just like we did previously\n",
    "#It is important to note that we can use the dataframes we used in previous step, I am creating new ones for clarity\n",
    "\n",
    "\n",
    "\n",
    "#For data analyst\n",
    "sorted_analyst_df_em.head(state_count).plot(x ='EMPLOYER_NAME', y='PAID_WAGE_PER_YEAR', xlabel=\"Employer\", ylabel=\"USD\", label=\"Paid Wage\", kind = 'bar', color=\"r\").set_title(\"Data Anaylst Wages\")\n",
    "plt.show()\n",
    "  \n"
   ]
  },
  {
   "cell_type": "code",
   "execution_count": null,
   "id": "9ac8fce9",
   "metadata": {},
   "outputs": [],
   "source": [
    "# For data scientist\n",
    "sorted_scientist_df_em.head(state_count).plot(x ='EMPLOYER_NAME', y='PAID_WAGE_PER_YEAR', xlabel=\"Employer\", ylabel=\"USD\", label=\"Paid Wage\", kind = 'bar', color=\"g\").set_title(\"Data Scientist Wages\")\n",
    "\n",
    "\n",
    "plt.show()\n",
    "\n",
    "#There is almost no overlap between top paying companies for Data Anaylst and Data Scientist. \n",
    "#The reason behind this could be each company specilising in a specific field, requiring specific set of skills\n",
    "#for their positions.\n"
   ]
  },
  {
   "cell_type": "code",
   "execution_count": null,
   "id": "7b19539d",
   "metadata": {},
   "outputs": [],
   "source": [
    "#Lastly, lets create a plot where we see the top paying companies for all data related jobs for perspective.\n",
    "all_data_sorted_em = data_salaries_df.groupby('EMPLOYER_NAME').mean().sort_values(by=\"PAID_WAGE_PER_YEAR\"\n",
    "                                                                                  , ascending=[False])\n",
    "sorted_analyst_df_em.head(state_count).plot(x ='EMPLOYER_NAME', y='PAID_WAGE_PER_YEAR'\n",
    "                                            , kind = 'bar').set_title(\"All Data Related Jobs\")\n",
    "plt.show()"
   ]
  },
  {
   "cell_type": "markdown",
   "id": "9979f5a0",
   "metadata": {},
   "source": [
    "## Taking Standart of Living Into Account"
   ]
  },
  {
   "cell_type": "code",
   "execution_count": null,
   "id": "738ce5bf",
   "metadata": {},
   "outputs": [],
   "source": [
    "#The plot below shows anual income for data related jobs when taking standart of living into account.\n",
    "#For this plot, standart of living is calculated by anual income multiplied by dollar value for each state.\n",
    "\n",
    "sorted_sal_df[\"Living_Standart_Income\"] = sorted_sal_df[\"PAID_WAGE_PER_YEAR\"] * sorted_sal_df[\"VALUE_OF_DOLLAR\"] \n",
    "sorted_sal_df_plot = sorted_sal_df.groupby('WORK_STATE').mean().sort_values(by=\"Living_Standart_Income\", ascending=[False]).reset_index()\n",
    "\n",
    "sorted_sal_df_plot.head(state_count).plot(x ='WORK_STATE', y='Living_Standart_Income', kind = 'bar', label=\"Anual Wage\",\n",
    "                                     title='Anual Income for Data Related Jobs', color=\"purple\")\n",
    "plt.show()\n",
    "\n",
    "\n",
    "\n",
    "\n"
   ]
  }
 ],
 "metadata": {
  "kernelspec": {
   "display_name": "Python 3 (ipykernel)",
   "language": "python",
   "name": "python3"
  },
  "language_info": {
   "codemirror_mode": {
    "name": "ipython",
    "version": 3
   },
   "file_extension": ".py",
   "mimetype": "text/x-python",
   "name": "python",
   "nbconvert_exporter": "python",
   "pygments_lexer": "ipython3",
   "version": "3.9.7"
  }
 },
 "nbformat": 4,
 "nbformat_minor": 5
}
